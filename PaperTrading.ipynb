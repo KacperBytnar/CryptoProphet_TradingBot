{
 "cells": [
  {
   "cell_type": "code",
   "execution_count": 71,
   "id": "ee883bdf",
   "metadata": {},
   "outputs": [],
   "source": [
    "import json\n",
    "import websocket\n",
    "import pandas as pd"
   ]
  },
  {
   "cell_type": "code",
   "execution_count": null,
   "id": "1cf96d6c",
   "metadata": {},
   "outputs": [],
   "source": []
  },
  {
   "cell_type": "code",
   "execution_count": null,
   "id": "32c70e72",
   "metadata": {},
   "outputs": [],
   "source": []
  },
  {
   "cell_type": "markdown",
   "id": "ae185b8f",
   "metadata": {},
   "source": [
    "# Creating a connection to serv\n"
   ]
  },
  {
   "cell_type": "code",
   "execution_count": 72,
   "id": "d69ae352",
   "metadata": {},
   "outputs": [],
   "source": [
    "API_Key = \"0sWK5vOVVm9PIiK6zWZCCQOc0RarZX8iHEbYD9MVw78q1XIp7fiowKhiOSCgIKnD\"\n",
    "Secret_Key = \"LsWWxbgiIr029rD62I5QLeu4PTttFRgZ9WxSvPCsCS993JKGIOG9gsixvoZHnLyg\""
   ]
  },
  {
   "cell_type": "code",
   "execution_count": 73,
   "id": "20fe5a16",
   "metadata": {},
   "outputs": [],
   "source": [
    "from binance.client import Client\n",
    "import pandas as pd"
   ]
  },
  {
   "cell_type": "code",
   "execution_count": 78,
   "id": "45d1aa72",
   "metadata": {},
   "outputs": [],
   "source": [
    "client = Client(api_key = API_Key, api_secret = Secret_Key, tld=\"com\")\n"
   ]
  },
  {
   "cell_type": "code",
   "execution_count": 79,
   "id": "d5dba2dd",
   "metadata": {},
   "outputs": [
    {
     "data": {
      "text/plain": [
       "{}"
      ]
     },
     "execution_count": 79,
     "metadata": {},
     "output_type": "execute_result"
    }
   ],
   "source": [
    "client.ping()"
   ]
  },
  {
   "cell_type": "code",
   "execution_count": 80,
   "id": "3ff3acbf",
   "metadata": {},
   "outputs": [
    {
     "ename": "BinanceAPIException",
     "evalue": "APIError(code=-2015): Invalid API-key, IP, or permissions for action.",
     "output_type": "error",
     "traceback": [
      "\u001b[1;31m---------------------------------------------------------------------------\u001b[0m",
      "\u001b[1;31mBinanceAPIException\u001b[0m                       Traceback (most recent call last)",
      "Cell \u001b[1;32mIn[80], line 1\u001b[0m\n\u001b[1;32m----> 1\u001b[0m account \u001b[38;5;241m=\u001b[39m client\u001b[38;5;241m.\u001b[39mget_account()\n",
      "File \u001b[1;32m~\\anaconda3\\Lib\\site-packages\\binance\\client.py:2053\u001b[0m, in \u001b[0;36mClient.get_account\u001b[1;34m(self, **params)\u001b[0m\n\u001b[0;32m   2016\u001b[0m \u001b[38;5;28;01mdef\u001b[39;00m \u001b[38;5;21mget_account\u001b[39m(\u001b[38;5;28mself\u001b[39m, \u001b[38;5;241m*\u001b[39m\u001b[38;5;241m*\u001b[39mparams):\n\u001b[0;32m   2017\u001b[0m \u001b[38;5;250m    \u001b[39m\u001b[38;5;124;03m\"\"\"Get current account information.\u001b[39;00m\n\u001b[0;32m   2018\u001b[0m \n\u001b[0;32m   2019\u001b[0m \u001b[38;5;124;03m    https://binance-docs.github.io/apidocs/spot/en/#account-information-user_data\u001b[39;00m\n\u001b[1;32m   (...)\u001b[0m\n\u001b[0;32m   2051\u001b[0m \n\u001b[0;32m   2052\u001b[0m \u001b[38;5;124;03m    \"\"\"\u001b[39;00m\n\u001b[1;32m-> 2053\u001b[0m     \u001b[38;5;28;01mreturn\u001b[39;00m \u001b[38;5;28mself\u001b[39m\u001b[38;5;241m.\u001b[39m_get(\u001b[38;5;124m'\u001b[39m\u001b[38;5;124maccount\u001b[39m\u001b[38;5;124m'\u001b[39m, \u001b[38;5;28;01mTrue\u001b[39;00m, data\u001b[38;5;241m=\u001b[39mparams)\n",
      "File \u001b[1;32m~\\anaconda3\\Lib\\site-packages\\binance\\client.py:415\u001b[0m, in \u001b[0;36mClient._get\u001b[1;34m(self, path, signed, version, **kwargs)\u001b[0m\n\u001b[0;32m    414\u001b[0m \u001b[38;5;28;01mdef\u001b[39;00m \u001b[38;5;21m_get\u001b[39m(\u001b[38;5;28mself\u001b[39m, path, signed\u001b[38;5;241m=\u001b[39m\u001b[38;5;28;01mFalse\u001b[39;00m, version\u001b[38;5;241m=\u001b[39mBaseClient\u001b[38;5;241m.\u001b[39mPUBLIC_API_VERSION, \u001b[38;5;241m*\u001b[39m\u001b[38;5;241m*\u001b[39mkwargs):\n\u001b[1;32m--> 415\u001b[0m     \u001b[38;5;28;01mreturn\u001b[39;00m \u001b[38;5;28mself\u001b[39m\u001b[38;5;241m.\u001b[39m_request_api(\u001b[38;5;124m'\u001b[39m\u001b[38;5;124mget\u001b[39m\u001b[38;5;124m'\u001b[39m, path, signed, version, \u001b[38;5;241m*\u001b[39m\u001b[38;5;241m*\u001b[39mkwargs)\n",
      "File \u001b[1;32m~\\anaconda3\\Lib\\site-packages\\binance\\client.py:378\u001b[0m, in \u001b[0;36mClient._request_api\u001b[1;34m(self, method, path, signed, version, **kwargs)\u001b[0m\n\u001b[0;32m    374\u001b[0m \u001b[38;5;28;01mdef\u001b[39;00m \u001b[38;5;21m_request_api\u001b[39m(\n\u001b[0;32m    375\u001b[0m     \u001b[38;5;28mself\u001b[39m, method, path: \u001b[38;5;28mstr\u001b[39m, signed: \u001b[38;5;28mbool\u001b[39m \u001b[38;5;241m=\u001b[39m \u001b[38;5;28;01mFalse\u001b[39;00m, version\u001b[38;5;241m=\u001b[39mBaseClient\u001b[38;5;241m.\u001b[39mPUBLIC_API_VERSION, \u001b[38;5;241m*\u001b[39m\u001b[38;5;241m*\u001b[39mkwargs\n\u001b[0;32m    376\u001b[0m ):\n\u001b[0;32m    377\u001b[0m     uri \u001b[38;5;241m=\u001b[39m \u001b[38;5;28mself\u001b[39m\u001b[38;5;241m.\u001b[39m_create_api_uri(path, signed, version)\n\u001b[1;32m--> 378\u001b[0m     \u001b[38;5;28;01mreturn\u001b[39;00m \u001b[38;5;28mself\u001b[39m\u001b[38;5;241m.\u001b[39m_request(method, uri, signed, \u001b[38;5;241m*\u001b[39m\u001b[38;5;241m*\u001b[39mkwargs)\n",
      "File \u001b[1;32m~\\anaconda3\\Lib\\site-packages\\binance\\client.py:359\u001b[0m, in \u001b[0;36mClient._request\u001b[1;34m(self, method, uri, signed, force_params, **kwargs)\u001b[0m\n\u001b[0;32m    356\u001b[0m kwargs \u001b[38;5;241m=\u001b[39m \u001b[38;5;28mself\u001b[39m\u001b[38;5;241m.\u001b[39m_get_request_kwargs(method, signed, force_params, \u001b[38;5;241m*\u001b[39m\u001b[38;5;241m*\u001b[39mkwargs)\n\u001b[0;32m    358\u001b[0m \u001b[38;5;28mself\u001b[39m\u001b[38;5;241m.\u001b[39mresponse \u001b[38;5;241m=\u001b[39m \u001b[38;5;28mgetattr\u001b[39m(\u001b[38;5;28mself\u001b[39m\u001b[38;5;241m.\u001b[39msession, method)(uri, \u001b[38;5;241m*\u001b[39m\u001b[38;5;241m*\u001b[39mkwargs)\n\u001b[1;32m--> 359\u001b[0m \u001b[38;5;28;01mreturn\u001b[39;00m \u001b[38;5;28mself\u001b[39m\u001b[38;5;241m.\u001b[39m_handle_response(\u001b[38;5;28mself\u001b[39m\u001b[38;5;241m.\u001b[39mresponse)\n",
      "File \u001b[1;32m~\\anaconda3\\Lib\\site-packages\\binance\\client.py:368\u001b[0m, in \u001b[0;36mClient._handle_response\u001b[1;34m(response)\u001b[0m\n\u001b[0;32m    363\u001b[0m \u001b[38;5;250m\u001b[39m\u001b[38;5;124;03m\"\"\"Internal helper for handling API responses from the Binance server.\u001b[39;00m\n\u001b[0;32m    364\u001b[0m \u001b[38;5;124;03mRaises the appropriate exceptions when necessary; otherwise, returns the\u001b[39;00m\n\u001b[0;32m    365\u001b[0m \u001b[38;5;124;03mresponse.\u001b[39;00m\n\u001b[0;32m    366\u001b[0m \u001b[38;5;124;03m\"\"\"\u001b[39;00m\n\u001b[0;32m    367\u001b[0m \u001b[38;5;28;01mif\u001b[39;00m \u001b[38;5;129;01mnot\u001b[39;00m (\u001b[38;5;241m200\u001b[39m \u001b[38;5;241m<\u001b[39m\u001b[38;5;241m=\u001b[39m response\u001b[38;5;241m.\u001b[39mstatus_code \u001b[38;5;241m<\u001b[39m \u001b[38;5;241m300\u001b[39m):\n\u001b[1;32m--> 368\u001b[0m     \u001b[38;5;28;01mraise\u001b[39;00m BinanceAPIException(response, response\u001b[38;5;241m.\u001b[39mstatus_code, response\u001b[38;5;241m.\u001b[39mtext)\n\u001b[0;32m    369\u001b[0m \u001b[38;5;28;01mtry\u001b[39;00m:\n\u001b[0;32m    370\u001b[0m     \u001b[38;5;28;01mreturn\u001b[39;00m response\u001b[38;5;241m.\u001b[39mjson()\n",
      "\u001b[1;31mBinanceAPIException\u001b[0m: APIError(code=-2015): Invalid API-key, IP, or permissions for action."
     ]
    }
   ],
   "source": [
    "account = client.get_account()"
   ]
  },
  {
   "cell_type": "code",
   "execution_count": null,
   "id": "5e1c048f",
   "metadata": {},
   "outputs": [],
   "source": [
    "account = client.get_account()\n",
    "balances_df = pd.DataFrame(account[\"balances\"])\n",
    "balances_df"
   ]
  },
  {
   "cell_type": "markdown",
   "id": "c3f86863",
   "metadata": {},
   "source": [
    "#Check binance trade fees\n"
   ]
  },
  {
   "cell_type": "code",
   "execution_count": 81,
   "id": "a631ddf4",
   "metadata": {},
   "outputs": [
    {
     "ename": "BinanceAPIException",
     "evalue": "APIError(code=-2008): Invalid Api-Key ID.",
     "output_type": "error",
     "traceback": [
      "\u001b[1;31m---------------------------------------------------------------------------\u001b[0m",
      "\u001b[1;31mBinanceAPIException\u001b[0m                       Traceback (most recent call last)",
      "Cell \u001b[1;32mIn[81], line 1\u001b[0m\n\u001b[1;32m----> 1\u001b[0m client\u001b[38;5;241m.\u001b[39mget_trade_fee(symbol\u001b[38;5;241m=\u001b[39m\u001b[38;5;124m\"\u001b[39m\u001b[38;5;124mBTCUSDT\u001b[39m\u001b[38;5;124m\"\u001b[39m)\n",
      "File \u001b[1;32m~\\anaconda3\\Lib\\site-packages\\binance\\client.py:2672\u001b[0m, in \u001b[0;36mClient.get_trade_fee\u001b[1;34m(self, **params)\u001b[0m\n\u001b[0;32m   2644\u001b[0m \u001b[38;5;28;01mdef\u001b[39;00m \u001b[38;5;21mget_trade_fee\u001b[39m(\u001b[38;5;28mself\u001b[39m, \u001b[38;5;241m*\u001b[39m\u001b[38;5;241m*\u001b[39mparams):\n\u001b[0;32m   2645\u001b[0m \u001b[38;5;250m    \u001b[39m\u001b[38;5;124;03m\"\"\"Get trade fee.\u001b[39;00m\n\u001b[0;32m   2646\u001b[0m \n\u001b[0;32m   2647\u001b[0m \u001b[38;5;124;03m    https://binance-docs.github.io/apidocs/spot/en/#trade-fee-sapi-user_data\u001b[39;00m\n\u001b[1;32m   (...)\u001b[0m\n\u001b[0;32m   2670\u001b[0m \n\u001b[0;32m   2671\u001b[0m \u001b[38;5;124;03m    \"\"\"\u001b[39;00m\n\u001b[1;32m-> 2672\u001b[0m     \u001b[38;5;28;01mreturn\u001b[39;00m \u001b[38;5;28mself\u001b[39m\u001b[38;5;241m.\u001b[39m_request_margin_api(\u001b[38;5;124m'\u001b[39m\u001b[38;5;124mget\u001b[39m\u001b[38;5;124m'\u001b[39m, \u001b[38;5;124m'\u001b[39m\u001b[38;5;124masset/tradeFee\u001b[39m\u001b[38;5;124m'\u001b[39m, \u001b[38;5;28;01mTrue\u001b[39;00m, data\u001b[38;5;241m=\u001b[39mparams)\n",
      "File \u001b[1;32m~\\anaconda3\\Lib\\site-packages\\binance\\client.py:408\u001b[0m, in \u001b[0;36mClient._request_margin_api\u001b[1;34m(self, method, path, signed, version, **kwargs)\u001b[0m\n\u001b[0;32m    405\u001b[0m \u001b[38;5;28;01mdef\u001b[39;00m \u001b[38;5;21m_request_margin_api\u001b[39m(\u001b[38;5;28mself\u001b[39m, method, path, signed\u001b[38;5;241m=\u001b[39m\u001b[38;5;28;01mFalse\u001b[39;00m, version\u001b[38;5;241m=\u001b[39m\u001b[38;5;241m1\u001b[39m, \u001b[38;5;241m*\u001b[39m\u001b[38;5;241m*\u001b[39mkwargs) \u001b[38;5;241m-\u001b[39m\u001b[38;5;241m>\u001b[39m Dict:\n\u001b[0;32m    406\u001b[0m     uri \u001b[38;5;241m=\u001b[39m \u001b[38;5;28mself\u001b[39m\u001b[38;5;241m.\u001b[39m_create_margin_api_uri(path, version)\n\u001b[1;32m--> 408\u001b[0m     \u001b[38;5;28;01mreturn\u001b[39;00m \u001b[38;5;28mself\u001b[39m\u001b[38;5;241m.\u001b[39m_request(method, uri, signed, \u001b[38;5;241m*\u001b[39m\u001b[38;5;241m*\u001b[39mkwargs)\n",
      "File \u001b[1;32m~\\anaconda3\\Lib\\site-packages\\binance\\client.py:359\u001b[0m, in \u001b[0;36mClient._request\u001b[1;34m(self, method, uri, signed, force_params, **kwargs)\u001b[0m\n\u001b[0;32m    356\u001b[0m kwargs \u001b[38;5;241m=\u001b[39m \u001b[38;5;28mself\u001b[39m\u001b[38;5;241m.\u001b[39m_get_request_kwargs(method, signed, force_params, \u001b[38;5;241m*\u001b[39m\u001b[38;5;241m*\u001b[39mkwargs)\n\u001b[0;32m    358\u001b[0m \u001b[38;5;28mself\u001b[39m\u001b[38;5;241m.\u001b[39mresponse \u001b[38;5;241m=\u001b[39m \u001b[38;5;28mgetattr\u001b[39m(\u001b[38;5;28mself\u001b[39m\u001b[38;5;241m.\u001b[39msession, method)(uri, \u001b[38;5;241m*\u001b[39m\u001b[38;5;241m*\u001b[39mkwargs)\n\u001b[1;32m--> 359\u001b[0m \u001b[38;5;28;01mreturn\u001b[39;00m \u001b[38;5;28mself\u001b[39m\u001b[38;5;241m.\u001b[39m_handle_response(\u001b[38;5;28mself\u001b[39m\u001b[38;5;241m.\u001b[39mresponse)\n",
      "File \u001b[1;32m~\\anaconda3\\Lib\\site-packages\\binance\\client.py:368\u001b[0m, in \u001b[0;36mClient._handle_response\u001b[1;34m(response)\u001b[0m\n\u001b[0;32m    363\u001b[0m \u001b[38;5;250m\u001b[39m\u001b[38;5;124;03m\"\"\"Internal helper for handling API responses from the Binance server.\u001b[39;00m\n\u001b[0;32m    364\u001b[0m \u001b[38;5;124;03mRaises the appropriate exceptions when necessary; otherwise, returns the\u001b[39;00m\n\u001b[0;32m    365\u001b[0m \u001b[38;5;124;03mresponse.\u001b[39;00m\n\u001b[0;32m    366\u001b[0m \u001b[38;5;124;03m\"\"\"\u001b[39;00m\n\u001b[0;32m    367\u001b[0m \u001b[38;5;28;01mif\u001b[39;00m \u001b[38;5;129;01mnot\u001b[39;00m (\u001b[38;5;241m200\u001b[39m \u001b[38;5;241m<\u001b[39m\u001b[38;5;241m=\u001b[39m response\u001b[38;5;241m.\u001b[39mstatus_code \u001b[38;5;241m<\u001b[39m \u001b[38;5;241m300\u001b[39m):\n\u001b[1;32m--> 368\u001b[0m     \u001b[38;5;28;01mraise\u001b[39;00m BinanceAPIException(response, response\u001b[38;5;241m.\u001b[39mstatus_code, response\u001b[38;5;241m.\u001b[39mtext)\n\u001b[0;32m    369\u001b[0m \u001b[38;5;28;01mtry\u001b[39;00m:\n\u001b[0;32m    370\u001b[0m     \u001b[38;5;28;01mreturn\u001b[39;00m response\u001b[38;5;241m.\u001b[39mjson()\n",
      "\u001b[1;31mBinanceAPIException\u001b[0m: APIError(code=-2008): Invalid Api-Key ID."
     ]
    }
   ],
   "source": [
    "client.get_trade_fee(symbol=\"BTCUSDT\")"
   ]
  },
  {
   "cell_type": "code",
   "execution_count": null,
   "id": "84d78076",
   "metadata": {},
   "outputs": [],
   "source": [
    "client.get_trade_fee(symbol=\"BUSDUSDT\")"
   ]
  },
  {
   "cell_type": "code",
   "execution_count": 82,
   "id": "8cafa79f",
   "metadata": {},
   "outputs": [
    {
     "data": {
      "text/plain": [
       "{'symbol': 'BTCUSDT',\n",
       " 'status': 'TRADING',\n",
       " 'baseAsset': 'BTC',\n",
       " 'baseAssetPrecision': 8,\n",
       " 'quoteAsset': 'USDT',\n",
       " 'quotePrecision': 8,\n",
       " 'quoteAssetPrecision': 8,\n",
       " 'baseCommissionPrecision': 8,\n",
       " 'quoteCommissionPrecision': 8,\n",
       " 'orderTypes': ['LIMIT',\n",
       "  'LIMIT_MAKER',\n",
       "  'MARKET',\n",
       "  'STOP_LOSS_LIMIT',\n",
       "  'TAKE_PROFIT_LIMIT'],\n",
       " 'icebergAllowed': True,\n",
       " 'ocoAllowed': True,\n",
       " 'quoteOrderQtyMarketAllowed': True,\n",
       " 'allowTrailingStop': True,\n",
       " 'cancelReplaceAllowed': True,\n",
       " 'isSpotTradingAllowed': True,\n",
       " 'isMarginTradingAllowed': True,\n",
       " 'filters': [{'filterType': 'PRICE_FILTER',\n",
       "   'minPrice': '0.01000000',\n",
       "   'maxPrice': '1000000.00000000',\n",
       "   'tickSize': '0.01000000'},\n",
       "  {'filterType': 'LOT_SIZE',\n",
       "   'minQty': '0.00001000',\n",
       "   'maxQty': '9000.00000000',\n",
       "   'stepSize': '0.00001000'},\n",
       "  {'filterType': 'ICEBERG_PARTS', 'limit': 10},\n",
       "  {'filterType': 'MARKET_LOT_SIZE',\n",
       "   'minQty': '0.00000000',\n",
       "   'maxQty': '153.39618845',\n",
       "   'stepSize': '0.00000000'},\n",
       "  {'filterType': 'TRAILING_DELTA',\n",
       "   'minTrailingAboveDelta': 10,\n",
       "   'maxTrailingAboveDelta': 2000,\n",
       "   'minTrailingBelowDelta': 10,\n",
       "   'maxTrailingBelowDelta': 2000},\n",
       "  {'filterType': 'PERCENT_PRICE_BY_SIDE',\n",
       "   'bidMultiplierUp': '5',\n",
       "   'bidMultiplierDown': '0.2',\n",
       "   'askMultiplierUp': '5',\n",
       "   'askMultiplierDown': '0.2',\n",
       "   'avgPriceMins': 5},\n",
       "  {'filterType': 'NOTIONAL',\n",
       "   'minNotional': '5.00000000',\n",
       "   'applyMinToMarket': True,\n",
       "   'maxNotional': '9000000.00000000',\n",
       "   'applyMaxToMarket': False,\n",
       "   'avgPriceMins': 5},\n",
       "  {'filterType': 'MAX_NUM_ORDERS', 'maxNumOrders': 200},\n",
       "  {'filterType': 'MAX_NUM_ALGO_ORDERS', 'maxNumAlgoOrders': 5}],\n",
       " 'permissions': ['SPOT',\n",
       "  'MARGIN',\n",
       "  'TRD_GRP_004',\n",
       "  'TRD_GRP_005',\n",
       "  'TRD_GRP_006',\n",
       "  'TRD_GRP_009',\n",
       "  'TRD_GRP_010',\n",
       "  'TRD_GRP_011',\n",
       "  'TRD_GRP_012',\n",
       "  'TRD_GRP_013',\n",
       "  'TRD_GRP_014',\n",
       "  'TRD_GRP_015',\n",
       "  'TRD_GRP_016',\n",
       "  'TRD_GRP_017',\n",
       "  'TRD_GRP_018',\n",
       "  'TRD_GRP_019',\n",
       "  'TRD_GRP_020',\n",
       "  'TRD_GRP_021',\n",
       "  'TRD_GRP_022',\n",
       "  'TRD_GRP_023',\n",
       "  'TRD_GRP_024',\n",
       "  'TRD_GRP_025'],\n",
       " 'defaultSelfTradePreventionMode': 'EXPIRE_MAKER',\n",
       " 'allowedSelfTradePreventionModes': ['EXPIRE_TAKER',\n",
       "  'EXPIRE_MAKER',\n",
       "  'EXPIRE_BOTH']}"
      ]
     },
     "execution_count": 82,
     "metadata": {},
     "output_type": "execute_result"
    }
   ],
   "source": [
    "client.get_symbol_info(symbol= \"BTCUSDT\")"
   ]
  },
  {
   "cell_type": "markdown",
   "id": "442fa34f",
   "metadata": {},
   "source": [
    "# Get Live prices"
   ]
  },
  {
   "cell_type": "code",
   "execution_count": 83,
   "id": "24d8fa82",
   "metadata": {},
   "outputs": [
    {
     "data": {
      "text/plain": [
       "{'symbol': 'BTCUSDT', 'price': '39912.25000000'}"
      ]
     },
     "execution_count": 83,
     "metadata": {},
     "output_type": "execute_result"
    }
   ],
   "source": [
    "client.get_symbol_ticker(symbol = \"BTCUSDT\") # current price for one symbol"
   ]
  },
  {
   "cell_type": "code",
   "execution_count": 84,
   "id": "c6cd299b",
   "metadata": {},
   "outputs": [
    {
     "data": {
      "text/plain": [
       "{'mins': 5, 'price': '39939.65012340', 'closeTime': 1706158200620}"
      ]
     },
     "execution_count": 84,
     "metadata": {},
     "output_type": "execute_result"
    }
   ],
   "source": [
    "client.get_avg_price(symbol=\"BTCUSDT\") # recent avg price for last 5 mins "
   ]
  },
  {
   "cell_type": "code",
   "execution_count": 85,
   "id": "e6e50e30",
   "metadata": {},
   "outputs": [
    {
     "data": {
      "text/plain": [
       "39912.24"
      ]
     },
     "execution_count": 85,
     "metadata": {},
     "output_type": "execute_result"
    }
   ],
   "source": [
    "float(client.get_symbol_ticker(symbol = \"BTCUSDT\")[\"price\"])"
   ]
  },
  {
   "cell_type": "code",
   "execution_count": 86,
   "id": "2678e3e0",
   "metadata": {},
   "outputs": [
    {
     "data": {
      "text/plain": [
       "{'symbol': 'BTCUSDT',\n",
       " 'priceChange': '191.14000000',\n",
       " 'priceChangePercent': '0.481',\n",
       " 'weightedAvgPrice': '39978.95579901',\n",
       " 'prevClosePrice': '39721.10000000',\n",
       " 'lastPrice': '39912.25000000',\n",
       " 'lastQty': '0.00014000',\n",
       " 'bidPrice': '39912.24000000',\n",
       " 'bidQty': '2.97229000',\n",
       " 'askPrice': '39912.25000000',\n",
       " 'askQty': '6.67811000',\n",
       " 'openPrice': '39721.11000000',\n",
       " 'highPrice': '40555.00000000',\n",
       " 'lowPrice': '39484.19000000',\n",
       " 'volume': '34802.07422000',\n",
       " 'quoteVolume': '1391350586.95514710',\n",
       " 'openTime': 1706071801165,\n",
       " 'closeTime': 1706158201165,\n",
       " 'firstId': 3387210192,\n",
       " 'lastId': 3388769034,\n",
       " 'count': 1558843}"
      ]
     },
     "execution_count": 86,
     "metadata": {},
     "output_type": "execute_result"
    }
   ],
   "source": [
    "last24 = client.get_ticker(symbol= \"BTCUSDT\")\n",
    "last24\n"
   ]
  },
  {
   "cell_type": "code",
   "execution_count": 87,
   "id": "89d05bed",
   "metadata": {},
   "outputs": [
    {
     "data": {
      "text/plain": [
       "'191.14000000'"
      ]
     },
     "execution_count": 87,
     "metadata": {},
     "output_type": "execute_result"
    }
   ],
   "source": [
    "day_price_change = last24['priceChange']\n",
    "day_price_change"
   ]
  },
  {
   "cell_type": "markdown",
   "id": "31f3add2",
   "metadata": {},
   "source": [
    "# Getting Historical Data (OHLC & Volume)"
   ]
  },
  {
   "cell_type": "code",
   "execution_count": 88,
   "id": "caa86bff",
   "metadata": {},
   "outputs": [
    {
     "data": {
      "text/plain": [
       "1502928000000"
      ]
     },
     "execution_count": 88,
     "metadata": {},
     "output_type": "execute_result"
    }
   ],
   "source": [
    "timestamp = client._get_earliest_valid_timestamp(symbol = \"BTCUSDT\", interval = \"1d\")\n",
    "timestamp"
   ]
  },
  {
   "cell_type": "code",
   "execution_count": 89,
   "id": "3d3718cf",
   "metadata": {},
   "outputs": [
    {
     "data": {
      "text/plain": [
       "Timestamp('2017-08-17 00:00:00')"
      ]
     },
     "execution_count": 89,
     "metadata": {},
     "output_type": "execute_result"
    }
   ],
   "source": [
    "pd.to_datetime(timestamp, unit=\"ms\") # earlist data from binance"
   ]
  },
  {
   "cell_type": "code",
   "execution_count": 90,
   "id": "7f745f5f",
   "metadata": {},
   "outputs": [],
   "source": [
    "def get_history(symbol, interval, start, end= None):\n",
    "    bars = client.get_historical_klines(symbol = symbol,\n",
    "                                    interval = interval, start_str = start, end_str = end, limit=1000)\n",
    "    historicalPrices = pd.DataFrame(bars)\n",
    "    historicalPrices[\"Date\"] = pd.to_datetime(historicalPrices.iloc[:,0], unit= \"ms\") \n",
    "    historicalPrices.columns = [\"Open Time\", \"Open\", \"High\", \"Low\", \"Close\", \"Volume\", \"Clos Time\",\n",
    "                                \"Quote Asset Volume\", \"Number of Trades\", \"Taker Buy Base Asset Volume\",\n",
    "                                \"Taker Buy Quote Asset Volume\",\"Ignore\", \"Date\"]\n",
    "    historicalPrices = historicalPrices[[\"Date\", \"Open\", \"High\", \"Low\", \"Close\", \"Volume\"]].copy()\n",
    "    historicalPrices.set_index(\"Date\", inplace=True)\n",
    "    for column in historicalPrices.columns:\n",
    "        historicalPrices[column] = pd.to_numeric(historicalPrices[column], errors = \"coerce\")\n",
    "    \n",
    "    return historicalPrices"
   ]
  },
  {
   "cell_type": "code",
   "execution_count": 91,
   "id": "f1d4e959",
   "metadata": {},
   "outputs": [
    {
     "data": {
      "text/html": [
       "<div>\n",
       "<style scoped>\n",
       "    .dataframe tbody tr th:only-of-type {\n",
       "        vertical-align: middle;\n",
       "    }\n",
       "\n",
       "    .dataframe tbody tr th {\n",
       "        vertical-align: top;\n",
       "    }\n",
       "\n",
       "    .dataframe thead th {\n",
       "        text-align: right;\n",
       "    }\n",
       "</style>\n",
       "<table border=\"1\" class=\"dataframe\">\n",
       "  <thead>\n",
       "    <tr style=\"text-align: right;\">\n",
       "      <th></th>\n",
       "      <th>Open</th>\n",
       "      <th>High</th>\n",
       "      <th>Low</th>\n",
       "      <th>Close</th>\n",
       "      <th>Volume</th>\n",
       "    </tr>\n",
       "    <tr>\n",
       "      <th>Date</th>\n",
       "      <th></th>\n",
       "      <th></th>\n",
       "      <th></th>\n",
       "      <th></th>\n",
       "      <th></th>\n",
       "    </tr>\n",
       "  </thead>\n",
       "  <tbody>\n",
       "    <tr>\n",
       "      <th>2017-08-17</th>\n",
       "      <td>4261.48</td>\n",
       "      <td>4485.39</td>\n",
       "      <td>4200.74</td>\n",
       "      <td>4285.08</td>\n",
       "      <td>795.150377</td>\n",
       "    </tr>\n",
       "    <tr>\n",
       "      <th>2017-08-18</th>\n",
       "      <td>4285.08</td>\n",
       "      <td>4371.52</td>\n",
       "      <td>3938.77</td>\n",
       "      <td>4108.37</td>\n",
       "      <td>1199.888264</td>\n",
       "    </tr>\n",
       "    <tr>\n",
       "      <th>2017-08-19</th>\n",
       "      <td>4108.37</td>\n",
       "      <td>4184.69</td>\n",
       "      <td>3850.00</td>\n",
       "      <td>4139.98</td>\n",
       "      <td>381.309763</td>\n",
       "    </tr>\n",
       "    <tr>\n",
       "      <th>2017-08-20</th>\n",
       "      <td>4120.98</td>\n",
       "      <td>4211.08</td>\n",
       "      <td>4032.62</td>\n",
       "      <td>4086.29</td>\n",
       "      <td>467.083022</td>\n",
       "    </tr>\n",
       "    <tr>\n",
       "      <th>2017-08-21</th>\n",
       "      <td>4069.13</td>\n",
       "      <td>4119.62</td>\n",
       "      <td>3911.79</td>\n",
       "      <td>4016.00</td>\n",
       "      <td>691.743060</td>\n",
       "    </tr>\n",
       "    <tr>\n",
       "      <th>...</th>\n",
       "      <td>...</td>\n",
       "      <td>...</td>\n",
       "      <td>...</td>\n",
       "      <td>...</td>\n",
       "      <td>...</td>\n",
       "    </tr>\n",
       "    <tr>\n",
       "      <th>2024-01-21</th>\n",
       "      <td>41696.05</td>\n",
       "      <td>41881.39</td>\n",
       "      <td>41500.98</td>\n",
       "      <td>41580.33</td>\n",
       "      <td>11730.163010</td>\n",
       "    </tr>\n",
       "    <tr>\n",
       "      <th>2024-01-22</th>\n",
       "      <td>41580.32</td>\n",
       "      <td>41689.65</td>\n",
       "      <td>39431.58</td>\n",
       "      <td>39568.02</td>\n",
       "      <td>55426.199110</td>\n",
       "    </tr>\n",
       "    <tr>\n",
       "      <th>2024-01-23</th>\n",
       "      <td>39568.02</td>\n",
       "      <td>40176.74</td>\n",
       "      <td>38555.00</td>\n",
       "      <td>39897.60</td>\n",
       "      <td>57956.633510</td>\n",
       "    </tr>\n",
       "    <tr>\n",
       "      <th>2024-01-24</th>\n",
       "      <td>39897.59</td>\n",
       "      <td>40555.00</td>\n",
       "      <td>39484.19</td>\n",
       "      <td>40084.88</td>\n",
       "      <td>39293.828610</td>\n",
       "    </tr>\n",
       "    <tr>\n",
       "      <th>2024-01-25</th>\n",
       "      <td>40084.89</td>\n",
       "      <td>40178.84</td>\n",
       "      <td>39912.00</td>\n",
       "      <td>39912.24</td>\n",
       "      <td>4184.937350</td>\n",
       "    </tr>\n",
       "  </tbody>\n",
       "</table>\n",
       "<p>2353 rows × 5 columns</p>\n",
       "</div>"
      ],
      "text/plain": [
       "                Open      High       Low     Close        Volume\n",
       "Date                                                            \n",
       "2017-08-17   4261.48   4485.39   4200.74   4285.08    795.150377\n",
       "2017-08-18   4285.08   4371.52   3938.77   4108.37   1199.888264\n",
       "2017-08-19   4108.37   4184.69   3850.00   4139.98    381.309763\n",
       "2017-08-20   4120.98   4211.08   4032.62   4086.29    467.083022\n",
       "2017-08-21   4069.13   4119.62   3911.79   4016.00    691.743060\n",
       "...              ...       ...       ...       ...           ...\n",
       "2024-01-21  41696.05  41881.39  41500.98  41580.33  11730.163010\n",
       "2024-01-22  41580.32  41689.65  39431.58  39568.02  55426.199110\n",
       "2024-01-23  39568.02  40176.74  38555.00  39897.60  57956.633510\n",
       "2024-01-24  39897.59  40555.00  39484.19  40084.88  39293.828610\n",
       "2024-01-25  40084.89  40178.84  39912.00  39912.24   4184.937350\n",
       "\n",
       "[2353 rows x 5 columns]"
      ]
     },
     "execution_count": 91,
     "metadata": {},
     "output_type": "execute_result"
    }
   ],
   "source": [
    "df = get_history(symbol=\"BTCUSDT\", interval=\"1d\", start=timestamp)\n",
    "df"
   ]
  },
  {
   "cell_type": "markdown",
   "id": "4f2a89ed",
   "metadata": {},
   "source": [
    "# Most recent (last 2 hours) Intraday Data (1m)\n"
   ]
  },
  {
   "cell_type": "code",
   "execution_count": 92,
   "id": "dfd2aaa2",
   "metadata": {},
   "outputs": [],
   "source": [
    "from datetime import datetime, timedelta"
   ]
  },
  {
   "cell_type": "code",
   "execution_count": 93,
   "id": "b2f406a8",
   "metadata": {},
   "outputs": [
    {
     "data": {
      "text/plain": [
       "datetime.datetime(2024, 1, 25, 5, 50, 3, 566230)"
      ]
     },
     "execution_count": 93,
     "metadata": {},
     "output_type": "execute_result"
    }
   ],
   "source": [
    "now = datetime.now()\n",
    "now"
   ]
  },
  {
   "cell_type": "code",
   "execution_count": 94,
   "id": "a6a19926",
   "metadata": {},
   "outputs": [
    {
     "data": {
      "text/plain": [
       "'2024-01-25 03:50:03.566230'"
      ]
     },
     "execution_count": 94,
     "metadata": {},
     "output_type": "execute_result"
    }
   ],
   "source": [
    "two_hours_before = now - timedelta(hours=2)\n",
    "str(two_hours_before)"
   ]
  },
  {
   "cell_type": "code",
   "execution_count": 95,
   "id": "3e20d16a",
   "metadata": {},
   "outputs": [
    {
     "data": {
      "text/html": [
       "<div>\n",
       "<style scoped>\n",
       "    .dataframe tbody tr th:only-of-type {\n",
       "        vertical-align: middle;\n",
       "    }\n",
       "\n",
       "    .dataframe tbody tr th {\n",
       "        vertical-align: top;\n",
       "    }\n",
       "\n",
       "    .dataframe thead th {\n",
       "        text-align: right;\n",
       "    }\n",
       "</style>\n",
       "<table border=\"1\" class=\"dataframe\">\n",
       "  <thead>\n",
       "    <tr style=\"text-align: right;\">\n",
       "      <th></th>\n",
       "      <th>Open</th>\n",
       "      <th>High</th>\n",
       "      <th>Low</th>\n",
       "      <th>Close</th>\n",
       "      <th>Volume</th>\n",
       "    </tr>\n",
       "    <tr>\n",
       "      <th>Date</th>\n",
       "      <th></th>\n",
       "      <th></th>\n",
       "      <th></th>\n",
       "      <th></th>\n",
       "      <th></th>\n",
       "    </tr>\n",
       "  </thead>\n",
       "  <tbody>\n",
       "    <tr>\n",
       "      <th>2024-01-25 03:51:00</th>\n",
       "      <td>40012.96</td>\n",
       "      <td>40018.11</td>\n",
       "      <td>40006.67</td>\n",
       "      <td>40018.10</td>\n",
       "      <td>14.82376</td>\n",
       "    </tr>\n",
       "    <tr>\n",
       "      <th>2024-01-25 03:52:00</th>\n",
       "      <td>40018.11</td>\n",
       "      <td>40038.66</td>\n",
       "      <td>40018.10</td>\n",
       "      <td>40034.01</td>\n",
       "      <td>12.70625</td>\n",
       "    </tr>\n",
       "    <tr>\n",
       "      <th>2024-01-25 03:53:00</th>\n",
       "      <td>40034.01</td>\n",
       "      <td>40034.01</td>\n",
       "      <td>40008.87</td>\n",
       "      <td>40008.88</td>\n",
       "      <td>6.22232</td>\n",
       "    </tr>\n",
       "    <tr>\n",
       "      <th>2024-01-25 03:54:00</th>\n",
       "      <td>40008.87</td>\n",
       "      <td>40010.87</td>\n",
       "      <td>40006.67</td>\n",
       "      <td>40010.86</td>\n",
       "      <td>11.98654</td>\n",
       "    </tr>\n",
       "    <tr>\n",
       "      <th>2024-01-25 03:55:00</th>\n",
       "      <td>40010.86</td>\n",
       "      <td>40015.55</td>\n",
       "      <td>40002.00</td>\n",
       "      <td>40015.54</td>\n",
       "      <td>29.98746</td>\n",
       "    </tr>\n",
       "    <tr>\n",
       "      <th>2024-01-25 03:56:00</th>\n",
       "      <td>40015.55</td>\n",
       "      <td>40015.67</td>\n",
       "      <td>40015.54</td>\n",
       "      <td>40015.66</td>\n",
       "      <td>2.20770</td>\n",
       "    </tr>\n",
       "    <tr>\n",
       "      <th>2024-01-25 03:57:00</th>\n",
       "      <td>40015.67</td>\n",
       "      <td>40015.67</td>\n",
       "      <td>40012.00</td>\n",
       "      <td>40012.00</td>\n",
       "      <td>5.57472</td>\n",
       "    </tr>\n",
       "    <tr>\n",
       "      <th>2024-01-25 03:58:00</th>\n",
       "      <td>40012.01</td>\n",
       "      <td>40012.01</td>\n",
       "      <td>40012.00</td>\n",
       "      <td>40012.01</td>\n",
       "      <td>1.02796</td>\n",
       "    </tr>\n",
       "    <tr>\n",
       "      <th>2024-01-25 03:59:00</th>\n",
       "      <td>40012.00</td>\n",
       "      <td>40012.01</td>\n",
       "      <td>40012.00</td>\n",
       "      <td>40012.01</td>\n",
       "      <td>1.55308</td>\n",
       "    </tr>\n",
       "    <tr>\n",
       "      <th>2024-01-25 04:00:00</th>\n",
       "      <td>40012.01</td>\n",
       "      <td>40015.22</td>\n",
       "      <td>40012.00</td>\n",
       "      <td>40015.21</td>\n",
       "      <td>5.93475</td>\n",
       "    </tr>\n",
       "    <tr>\n",
       "      <th>2024-01-25 04:01:00</th>\n",
       "      <td>40015.21</td>\n",
       "      <td>40015.22</td>\n",
       "      <td>40007.11</td>\n",
       "      <td>40013.26</td>\n",
       "      <td>16.21688</td>\n",
       "    </tr>\n",
       "    <tr>\n",
       "      <th>2024-01-25 04:02:00</th>\n",
       "      <td>40013.26</td>\n",
       "      <td>40013.26</td>\n",
       "      <td>40003.65</td>\n",
       "      <td>40003.65</td>\n",
       "      <td>10.59735</td>\n",
       "    </tr>\n",
       "    <tr>\n",
       "      <th>2024-01-25 04:03:00</th>\n",
       "      <td>40003.65</td>\n",
       "      <td>40003.66</td>\n",
       "      <td>39984.71</td>\n",
       "      <td>39984.71</td>\n",
       "      <td>7.82459</td>\n",
       "    </tr>\n",
       "    <tr>\n",
       "      <th>2024-01-25 04:04:00</th>\n",
       "      <td>39984.71</td>\n",
       "      <td>40000.00</td>\n",
       "      <td>39981.59</td>\n",
       "      <td>39999.99</td>\n",
       "      <td>10.62293</td>\n",
       "    </tr>\n",
       "    <tr>\n",
       "      <th>2024-01-25 04:05:00</th>\n",
       "      <td>40000.00</td>\n",
       "      <td>40018.60</td>\n",
       "      <td>39999.99</td>\n",
       "      <td>40018.59</td>\n",
       "      <td>6.81316</td>\n",
       "    </tr>\n",
       "    <tr>\n",
       "      <th>2024-01-25 04:06:00</th>\n",
       "      <td>40018.60</td>\n",
       "      <td>40032.00</td>\n",
       "      <td>40018.59</td>\n",
       "      <td>40032.00</td>\n",
       "      <td>8.97495</td>\n",
       "    </tr>\n",
       "    <tr>\n",
       "      <th>2024-01-25 04:07:00</th>\n",
       "      <td>40032.00</td>\n",
       "      <td>40032.50</td>\n",
       "      <td>40024.78</td>\n",
       "      <td>40025.99</td>\n",
       "      <td>23.66157</td>\n",
       "    </tr>\n",
       "    <tr>\n",
       "      <th>2024-01-25 04:08:00</th>\n",
       "      <td>40026.00</td>\n",
       "      <td>40026.00</td>\n",
       "      <td>40024.78</td>\n",
       "      <td>40024.78</td>\n",
       "      <td>1.36674</td>\n",
       "    </tr>\n",
       "    <tr>\n",
       "      <th>2024-01-25 04:09:00</th>\n",
       "      <td>40024.78</td>\n",
       "      <td>40024.79</td>\n",
       "      <td>40001.44</td>\n",
       "      <td>40001.45</td>\n",
       "      <td>5.64895</td>\n",
       "    </tr>\n",
       "    <tr>\n",
       "      <th>2024-01-25 04:10:00</th>\n",
       "      <td>40001.44</td>\n",
       "      <td>40001.45</td>\n",
       "      <td>39974.16</td>\n",
       "      <td>39975.55</td>\n",
       "      <td>17.50832</td>\n",
       "    </tr>\n",
       "    <tr>\n",
       "      <th>2024-01-25 04:11:00</th>\n",
       "      <td>39975.55</td>\n",
       "      <td>39977.43</td>\n",
       "      <td>39952.56</td>\n",
       "      <td>39958.84</td>\n",
       "      <td>68.12843</td>\n",
       "    </tr>\n",
       "    <tr>\n",
       "      <th>2024-01-25 04:12:00</th>\n",
       "      <td>39959.13</td>\n",
       "      <td>39977.79</td>\n",
       "      <td>39958.46</td>\n",
       "      <td>39969.65</td>\n",
       "      <td>32.07965</td>\n",
       "    </tr>\n",
       "    <tr>\n",
       "      <th>2024-01-25 04:13:00</th>\n",
       "      <td>39969.64</td>\n",
       "      <td>39969.89</td>\n",
       "      <td>39969.64</td>\n",
       "      <td>39969.89</td>\n",
       "      <td>7.76400</td>\n",
       "    </tr>\n",
       "    <tr>\n",
       "      <th>2024-01-25 04:14:00</th>\n",
       "      <td>39969.88</td>\n",
       "      <td>39969.89</td>\n",
       "      <td>39963.18</td>\n",
       "      <td>39963.18</td>\n",
       "      <td>9.72675</td>\n",
       "    </tr>\n",
       "    <tr>\n",
       "      <th>2024-01-25 04:15:00</th>\n",
       "      <td>39963.19</td>\n",
       "      <td>39969.78</td>\n",
       "      <td>39961.10</td>\n",
       "      <td>39965.33</td>\n",
       "      <td>31.91851</td>\n",
       "    </tr>\n",
       "    <tr>\n",
       "      <th>2024-01-25 04:16:00</th>\n",
       "      <td>39965.34</td>\n",
       "      <td>39971.73</td>\n",
       "      <td>39962.94</td>\n",
       "      <td>39962.94</td>\n",
       "      <td>35.35881</td>\n",
       "    </tr>\n",
       "    <tr>\n",
       "      <th>2024-01-25 04:17:00</th>\n",
       "      <td>39962.95</td>\n",
       "      <td>39967.97</td>\n",
       "      <td>39962.94</td>\n",
       "      <td>39966.18</td>\n",
       "      <td>30.85757</td>\n",
       "    </tr>\n",
       "    <tr>\n",
       "      <th>2024-01-25 04:18:00</th>\n",
       "      <td>39966.18</td>\n",
       "      <td>39971.67</td>\n",
       "      <td>39966.18</td>\n",
       "      <td>39968.24</td>\n",
       "      <td>33.78858</td>\n",
       "    </tr>\n",
       "    <tr>\n",
       "      <th>2024-01-25 04:19:00</th>\n",
       "      <td>39968.24</td>\n",
       "      <td>39977.03</td>\n",
       "      <td>39968.24</td>\n",
       "      <td>39977.03</td>\n",
       "      <td>36.20113</td>\n",
       "    </tr>\n",
       "    <tr>\n",
       "      <th>2024-01-25 04:20:00</th>\n",
       "      <td>39977.02</td>\n",
       "      <td>39979.52</td>\n",
       "      <td>39973.67</td>\n",
       "      <td>39979.51</td>\n",
       "      <td>19.58939</td>\n",
       "    </tr>\n",
       "    <tr>\n",
       "      <th>2024-01-25 04:21:00</th>\n",
       "      <td>39979.51</td>\n",
       "      <td>39992.37</td>\n",
       "      <td>39979.51</td>\n",
       "      <td>39992.36</td>\n",
       "      <td>22.10336</td>\n",
       "    </tr>\n",
       "    <tr>\n",
       "      <th>2024-01-25 04:22:00</th>\n",
       "      <td>39992.36</td>\n",
       "      <td>39992.37</td>\n",
       "      <td>39973.67</td>\n",
       "      <td>39977.51</td>\n",
       "      <td>18.76934</td>\n",
       "    </tr>\n",
       "    <tr>\n",
       "      <th>2024-01-25 04:23:00</th>\n",
       "      <td>39977.52</td>\n",
       "      <td>39992.00</td>\n",
       "      <td>39977.51</td>\n",
       "      <td>39992.00</td>\n",
       "      <td>11.07521</td>\n",
       "    </tr>\n",
       "    <tr>\n",
       "      <th>2024-01-25 04:24:00</th>\n",
       "      <td>39992.00</td>\n",
       "      <td>39992.00</td>\n",
       "      <td>39991.99</td>\n",
       "      <td>39992.00</td>\n",
       "      <td>4.15899</td>\n",
       "    </tr>\n",
       "    <tr>\n",
       "      <th>2024-01-25 04:25:00</th>\n",
       "      <td>39991.99</td>\n",
       "      <td>39992.00</td>\n",
       "      <td>39976.81</td>\n",
       "      <td>39976.82</td>\n",
       "      <td>6.05312</td>\n",
       "    </tr>\n",
       "    <tr>\n",
       "      <th>2024-01-25 04:26:00</th>\n",
       "      <td>39976.82</td>\n",
       "      <td>39992.82</td>\n",
       "      <td>39976.81</td>\n",
       "      <td>39992.81</td>\n",
       "      <td>8.77142</td>\n",
       "    </tr>\n",
       "    <tr>\n",
       "      <th>2024-01-25 04:27:00</th>\n",
       "      <td>39992.81</td>\n",
       "      <td>39992.82</td>\n",
       "      <td>39977.47</td>\n",
       "      <td>39977.47</td>\n",
       "      <td>7.98099</td>\n",
       "    </tr>\n",
       "    <tr>\n",
       "      <th>2024-01-25 04:28:00</th>\n",
       "      <td>39977.47</td>\n",
       "      <td>39983.89</td>\n",
       "      <td>39977.47</td>\n",
       "      <td>39983.89</td>\n",
       "      <td>4.63317</td>\n",
       "    </tr>\n",
       "    <tr>\n",
       "      <th>2024-01-25 04:29:00</th>\n",
       "      <td>39983.88</td>\n",
       "      <td>39983.89</td>\n",
       "      <td>39983.87</td>\n",
       "      <td>39983.88</td>\n",
       "      <td>3.78433</td>\n",
       "    </tr>\n",
       "    <tr>\n",
       "      <th>2024-01-25 04:30:00</th>\n",
       "      <td>39983.87</td>\n",
       "      <td>39986.16</td>\n",
       "      <td>39976.81</td>\n",
       "      <td>39986.16</td>\n",
       "      <td>10.06635</td>\n",
       "    </tr>\n",
       "    <tr>\n",
       "      <th>2024-01-25 04:31:00</th>\n",
       "      <td>39986.15</td>\n",
       "      <td>39995.96</td>\n",
       "      <td>39986.15</td>\n",
       "      <td>39990.91</td>\n",
       "      <td>19.73564</td>\n",
       "    </tr>\n",
       "    <tr>\n",
       "      <th>2024-01-25 04:32:00</th>\n",
       "      <td>39990.91</td>\n",
       "      <td>39995.94</td>\n",
       "      <td>39990.90</td>\n",
       "      <td>39995.93</td>\n",
       "      <td>4.04447</td>\n",
       "    </tr>\n",
       "    <tr>\n",
       "      <th>2024-01-25 04:33:00</th>\n",
       "      <td>39995.94</td>\n",
       "      <td>39999.30</td>\n",
       "      <td>39995.93</td>\n",
       "      <td>39999.29</td>\n",
       "      <td>7.19156</td>\n",
       "    </tr>\n",
       "    <tr>\n",
       "      <th>2024-01-25 04:34:00</th>\n",
       "      <td>39999.29</td>\n",
       "      <td>39999.30</td>\n",
       "      <td>39976.81</td>\n",
       "      <td>39976.81</td>\n",
       "      <td>4.76680</td>\n",
       "    </tr>\n",
       "    <tr>\n",
       "      <th>2024-01-25 04:35:00</th>\n",
       "      <td>39976.81</td>\n",
       "      <td>39976.82</td>\n",
       "      <td>39952.58</td>\n",
       "      <td>39952.58</td>\n",
       "      <td>6.02870</td>\n",
       "    </tr>\n",
       "    <tr>\n",
       "      <th>2024-01-25 04:36:00</th>\n",
       "      <td>39952.58</td>\n",
       "      <td>39967.51</td>\n",
       "      <td>39952.58</td>\n",
       "      <td>39967.50</td>\n",
       "      <td>12.61769</td>\n",
       "    </tr>\n",
       "    <tr>\n",
       "      <th>2024-01-25 04:37:00</th>\n",
       "      <td>39967.51</td>\n",
       "      <td>39997.43</td>\n",
       "      <td>39967.50</td>\n",
       "      <td>39982.08</td>\n",
       "      <td>22.96116</td>\n",
       "    </tr>\n",
       "    <tr>\n",
       "      <th>2024-01-25 04:38:00</th>\n",
       "      <td>39982.07</td>\n",
       "      <td>39987.45</td>\n",
       "      <td>39974.99</td>\n",
       "      <td>39981.46</td>\n",
       "      <td>7.05562</td>\n",
       "    </tr>\n",
       "    <tr>\n",
       "      <th>2024-01-25 04:39:00</th>\n",
       "      <td>39981.45</td>\n",
       "      <td>39989.00</td>\n",
       "      <td>39981.45</td>\n",
       "      <td>39988.99</td>\n",
       "      <td>8.09903</td>\n",
       "    </tr>\n",
       "    <tr>\n",
       "      <th>2024-01-25 04:40:00</th>\n",
       "      <td>39988.99</td>\n",
       "      <td>39995.75</td>\n",
       "      <td>39988.99</td>\n",
       "      <td>39993.03</td>\n",
       "      <td>13.26202</td>\n",
       "    </tr>\n",
       "    <tr>\n",
       "      <th>2024-01-25 04:41:00</th>\n",
       "      <td>39993.04</td>\n",
       "      <td>39995.58</td>\n",
       "      <td>39992.45</td>\n",
       "      <td>39992.45</td>\n",
       "      <td>9.63259</td>\n",
       "    </tr>\n",
       "    <tr>\n",
       "      <th>2024-01-25 04:42:00</th>\n",
       "      <td>39992.46</td>\n",
       "      <td>39992.46</td>\n",
       "      <td>39991.31</td>\n",
       "      <td>39991.31</td>\n",
       "      <td>3.24470</td>\n",
       "    </tr>\n",
       "    <tr>\n",
       "      <th>2024-01-25 04:43:00</th>\n",
       "      <td>39991.32</td>\n",
       "      <td>39991.32</td>\n",
       "      <td>39988.99</td>\n",
       "      <td>39989.00</td>\n",
       "      <td>1.43877</td>\n",
       "    </tr>\n",
       "    <tr>\n",
       "      <th>2024-01-25 04:44:00</th>\n",
       "      <td>39989.00</td>\n",
       "      <td>39989.00</td>\n",
       "      <td>39972.23</td>\n",
       "      <td>39972.23</td>\n",
       "      <td>2.57038</td>\n",
       "    </tr>\n",
       "    <tr>\n",
       "      <th>2024-01-25 04:45:00</th>\n",
       "      <td>39972.24</td>\n",
       "      <td>39972.24</td>\n",
       "      <td>39961.10</td>\n",
       "      <td>39961.10</td>\n",
       "      <td>10.58569</td>\n",
       "    </tr>\n",
       "    <tr>\n",
       "      <th>2024-01-25 04:46:00</th>\n",
       "      <td>39961.11</td>\n",
       "      <td>39961.11</td>\n",
       "      <td>39959.21</td>\n",
       "      <td>39959.22</td>\n",
       "      <td>12.55781</td>\n",
       "    </tr>\n",
       "    <tr>\n",
       "      <th>2024-01-25 04:47:00</th>\n",
       "      <td>39959.22</td>\n",
       "      <td>39959.22</td>\n",
       "      <td>39942.42</td>\n",
       "      <td>39942.42</td>\n",
       "      <td>6.40098</td>\n",
       "    </tr>\n",
       "    <tr>\n",
       "      <th>2024-01-25 04:48:00</th>\n",
       "      <td>39942.43</td>\n",
       "      <td>39942.43</td>\n",
       "      <td>39914.68</td>\n",
       "      <td>39917.03</td>\n",
       "      <td>8.82814</td>\n",
       "    </tr>\n",
       "    <tr>\n",
       "      <th>2024-01-25 04:49:00</th>\n",
       "      <td>39917.03</td>\n",
       "      <td>39919.39</td>\n",
       "      <td>39912.00</td>\n",
       "      <td>39912.25</td>\n",
       "      <td>20.18711</td>\n",
       "    </tr>\n",
       "    <tr>\n",
       "      <th>2024-01-25 04:50:00</th>\n",
       "      <td>39912.25</td>\n",
       "      <td>39912.25</td>\n",
       "      <td>39912.24</td>\n",
       "      <td>39912.25</td>\n",
       "      <td>1.26315</td>\n",
       "    </tr>\n",
       "  </tbody>\n",
       "</table>\n",
       "</div>"
      ],
      "text/plain": [
       "                         Open      High       Low     Close    Volume\n",
       "Date                                                                 \n",
       "2024-01-25 03:51:00  40012.96  40018.11  40006.67  40018.10  14.82376\n",
       "2024-01-25 03:52:00  40018.11  40038.66  40018.10  40034.01  12.70625\n",
       "2024-01-25 03:53:00  40034.01  40034.01  40008.87  40008.88   6.22232\n",
       "2024-01-25 03:54:00  40008.87  40010.87  40006.67  40010.86  11.98654\n",
       "2024-01-25 03:55:00  40010.86  40015.55  40002.00  40015.54  29.98746\n",
       "2024-01-25 03:56:00  40015.55  40015.67  40015.54  40015.66   2.20770\n",
       "2024-01-25 03:57:00  40015.67  40015.67  40012.00  40012.00   5.57472\n",
       "2024-01-25 03:58:00  40012.01  40012.01  40012.00  40012.01   1.02796\n",
       "2024-01-25 03:59:00  40012.00  40012.01  40012.00  40012.01   1.55308\n",
       "2024-01-25 04:00:00  40012.01  40015.22  40012.00  40015.21   5.93475\n",
       "2024-01-25 04:01:00  40015.21  40015.22  40007.11  40013.26  16.21688\n",
       "2024-01-25 04:02:00  40013.26  40013.26  40003.65  40003.65  10.59735\n",
       "2024-01-25 04:03:00  40003.65  40003.66  39984.71  39984.71   7.82459\n",
       "2024-01-25 04:04:00  39984.71  40000.00  39981.59  39999.99  10.62293\n",
       "2024-01-25 04:05:00  40000.00  40018.60  39999.99  40018.59   6.81316\n",
       "2024-01-25 04:06:00  40018.60  40032.00  40018.59  40032.00   8.97495\n",
       "2024-01-25 04:07:00  40032.00  40032.50  40024.78  40025.99  23.66157\n",
       "2024-01-25 04:08:00  40026.00  40026.00  40024.78  40024.78   1.36674\n",
       "2024-01-25 04:09:00  40024.78  40024.79  40001.44  40001.45   5.64895\n",
       "2024-01-25 04:10:00  40001.44  40001.45  39974.16  39975.55  17.50832\n",
       "2024-01-25 04:11:00  39975.55  39977.43  39952.56  39958.84  68.12843\n",
       "2024-01-25 04:12:00  39959.13  39977.79  39958.46  39969.65  32.07965\n",
       "2024-01-25 04:13:00  39969.64  39969.89  39969.64  39969.89   7.76400\n",
       "2024-01-25 04:14:00  39969.88  39969.89  39963.18  39963.18   9.72675\n",
       "2024-01-25 04:15:00  39963.19  39969.78  39961.10  39965.33  31.91851\n",
       "2024-01-25 04:16:00  39965.34  39971.73  39962.94  39962.94  35.35881\n",
       "2024-01-25 04:17:00  39962.95  39967.97  39962.94  39966.18  30.85757\n",
       "2024-01-25 04:18:00  39966.18  39971.67  39966.18  39968.24  33.78858\n",
       "2024-01-25 04:19:00  39968.24  39977.03  39968.24  39977.03  36.20113\n",
       "2024-01-25 04:20:00  39977.02  39979.52  39973.67  39979.51  19.58939\n",
       "2024-01-25 04:21:00  39979.51  39992.37  39979.51  39992.36  22.10336\n",
       "2024-01-25 04:22:00  39992.36  39992.37  39973.67  39977.51  18.76934\n",
       "2024-01-25 04:23:00  39977.52  39992.00  39977.51  39992.00  11.07521\n",
       "2024-01-25 04:24:00  39992.00  39992.00  39991.99  39992.00   4.15899\n",
       "2024-01-25 04:25:00  39991.99  39992.00  39976.81  39976.82   6.05312\n",
       "2024-01-25 04:26:00  39976.82  39992.82  39976.81  39992.81   8.77142\n",
       "2024-01-25 04:27:00  39992.81  39992.82  39977.47  39977.47   7.98099\n",
       "2024-01-25 04:28:00  39977.47  39983.89  39977.47  39983.89   4.63317\n",
       "2024-01-25 04:29:00  39983.88  39983.89  39983.87  39983.88   3.78433\n",
       "2024-01-25 04:30:00  39983.87  39986.16  39976.81  39986.16  10.06635\n",
       "2024-01-25 04:31:00  39986.15  39995.96  39986.15  39990.91  19.73564\n",
       "2024-01-25 04:32:00  39990.91  39995.94  39990.90  39995.93   4.04447\n",
       "2024-01-25 04:33:00  39995.94  39999.30  39995.93  39999.29   7.19156\n",
       "2024-01-25 04:34:00  39999.29  39999.30  39976.81  39976.81   4.76680\n",
       "2024-01-25 04:35:00  39976.81  39976.82  39952.58  39952.58   6.02870\n",
       "2024-01-25 04:36:00  39952.58  39967.51  39952.58  39967.50  12.61769\n",
       "2024-01-25 04:37:00  39967.51  39997.43  39967.50  39982.08  22.96116\n",
       "2024-01-25 04:38:00  39982.07  39987.45  39974.99  39981.46   7.05562\n",
       "2024-01-25 04:39:00  39981.45  39989.00  39981.45  39988.99   8.09903\n",
       "2024-01-25 04:40:00  39988.99  39995.75  39988.99  39993.03  13.26202\n",
       "2024-01-25 04:41:00  39993.04  39995.58  39992.45  39992.45   9.63259\n",
       "2024-01-25 04:42:00  39992.46  39992.46  39991.31  39991.31   3.24470\n",
       "2024-01-25 04:43:00  39991.32  39991.32  39988.99  39989.00   1.43877\n",
       "2024-01-25 04:44:00  39989.00  39989.00  39972.23  39972.23   2.57038\n",
       "2024-01-25 04:45:00  39972.24  39972.24  39961.10  39961.10  10.58569\n",
       "2024-01-25 04:46:00  39961.11  39961.11  39959.21  39959.22  12.55781\n",
       "2024-01-25 04:47:00  39959.22  39959.22  39942.42  39942.42   6.40098\n",
       "2024-01-25 04:48:00  39942.43  39942.43  39914.68  39917.03   8.82814\n",
       "2024-01-25 04:49:00  39917.03  39919.39  39912.00  39912.25  20.18711\n",
       "2024-01-25 04:50:00  39912.25  39912.25  39912.24  39912.25   1.26315"
      ]
     },
     "execution_count": 95,
     "metadata": {},
     "output_type": "execute_result"
    }
   ],
   "source": [
    "last_2h_1m_df = get_history(symbol = \"BTCUSDT\", interval = \"1m\", start=str(two_hours_before))\n",
    "last_2h_1m_df"
   ]
  },
  {
   "cell_type": "markdown",
   "id": "1e98ed94",
   "metadata": {},
   "source": [
    "# Option 1: ThreadedWebsocketManager (only executable in scripts!)"
   ]
  },
  {
   "cell_type": "code",
   "execution_count": 96,
   "id": "230bde49",
   "metadata": {},
   "outputs": [],
   "source": [
    "from binance import ThreadedWebsocketManager\n",
    "import time"
   ]
  },
  {
   "cell_type": "code",
   "execution_count": 97,
   "id": "e506582f",
   "metadata": {},
   "outputs": [
    {
     "data": {
      "text/html": [
       "<div>\n",
       "<style scoped>\n",
       "    .dataframe tbody tr th:only-of-type {\n",
       "        vertical-align: middle;\n",
       "    }\n",
       "\n",
       "    .dataframe tbody tr th {\n",
       "        vertical-align: top;\n",
       "    }\n",
       "\n",
       "    .dataframe thead th {\n",
       "        text-align: right;\n",
       "    }\n",
       "</style>\n",
       "<table border=\"1\" class=\"dataframe\">\n",
       "  <thead>\n",
       "    <tr style=\"text-align: right;\">\n",
       "      <th></th>\n",
       "      <th>Open</th>\n",
       "      <th>High</th>\n",
       "      <th>Low</th>\n",
       "      <th>Close</th>\n",
       "      <th>Volume</th>\n",
       "      <th>Coplete</th>\n",
       "    </tr>\n",
       "  </thead>\n",
       "  <tbody>\n",
       "  </tbody>\n",
       "</table>\n",
       "</div>"
      ],
      "text/plain": [
       "Empty DataFrame\n",
       "Columns: [Open, High, Low, Close, Volume, Coplete]\n",
       "Index: []"
      ]
     },
     "execution_count": 97,
     "metadata": {},
     "output_type": "execute_result"
    }
   ],
   "source": [
    "df = pd.DataFrame(columns = [\"Open\", \"High\", \"Low\", \"Close\", \"Volume\", \"Coplete\"])\n",
    "df"
   ]
  },
  {
   "cell_type": "code",
   "execution_count": 98,
   "id": "023afd31",
   "metadata": {},
   "outputs": [],
   "source": [
    "def stream_candles(msg):\n",
    "    \n",
    "    #extract required candle items\n",
    "    event_time = pd.to_datetime(msg[\"E\"], unit=\"ms\")\n",
    "    start_time = pd.to_datetime(msg[\"k\"][\"t\"], unit=\"ms\")\n",
    "    first      = float(msg[\"k\"][\"o\"])\n",
    "    high      = float(msg[\"k\"][\"h\"])\n",
    "    low      = float(msg[\"k\"][\"l\"])\n",
    "    close      = float(msg[\"k\"][\"c\"])\n",
    "    volume      = float(msg[\"k\"][\"v\"])\n",
    "    complete      = msg[\"k\"][\"x\"]\n",
    "    \n",
    "    # print out\n",
    "    print(\"Time: {} | Price: {}\".format(event_time, close))\n",
    "    \n",
    "    # feed df (add a new bar / update)\n",
    "    df.loc[start_time] = [first,high,low,close,volume,complete]\n",
    "    "
   ]
  },
  {
   "cell_type": "code",
   "execution_count": 99,
   "id": "e64c8ee2",
   "metadata": {},
   "outputs": [
    {
     "name": "stderr",
     "output_type": "stream",
     "text": [
      "Exception in thread Thread-5:\n",
      "Traceback (most recent call last):\n",
      "  File \"C:\\Users\\matei\\anaconda3\\Lib\\threading.py\", line 1038, in _bootstrap_inner\n",
      "    self.run()\n",
      "  File \"C:\\Users\\matei\\anaconda3\\Lib\\site-packages\\binance\\threaded_stream.py\", line 59, in run\n",
      "    self._loop.run_until_complete(self.socket_listener())\n",
      "  File \"C:\\Users\\matei\\anaconda3\\Lib\\asyncio\\base_events.py\", line 629, in run_until_complete\n",
      "    self._check_running()\n",
      "  File \"C:\\Users\\matei\\anaconda3\\Lib\\asyncio\\base_events.py\", line 588, in _check_running\n",
      "    raise RuntimeError('This event loop is already running')\n",
      "RuntimeError: This event loop is already running\n",
      "C:\\Users\\matei\\anaconda3\\Lib\\threading.py:1040: RuntimeWarning: coroutine 'ThreadedApiManager.socket_listener' was never awaited\n",
      "  self._invoke_excepthook(self)\n",
      "RuntimeWarning: Enable tracemalloc to get the object allocation traceback\n"
     ]
    }
   ],
   "source": [
    "# initialize the start WebSocket\n",
    "\n",
    "twm = ThreadedWebsocketManager(tld=\"us\")\n",
    "twm.start()"
   ]
  },
  {
   "cell_type": "code",
   "execution_count": null,
   "id": "6fec5d0c",
   "metadata": {},
   "outputs": [],
   "source": [
    "twm.start_symbol_miniticker_socket(callback = stream_data, symbol = \"BTCUSDT\")"
   ]
  },
  {
   "cell_type": "code",
   "execution_count": null,
   "id": "5f13758a",
   "metadata": {},
   "outputs": [],
   "source": [
    "While True:\n",
    "    time.sleep(20)\n",
    "    twm.stop()\n",
    "    break"
   ]
  },
  {
   "cell_type": "markdown",
   "id": "853c8ca0",
   "metadata": {},
   "source": [
    "# Option 2: BinanceSocketManager (executable in Jupyter!)"
   ]
  },
  {
   "cell_type": "code",
   "execution_count": null,
   "id": "d18d512a",
   "metadata": {},
   "outputs": [],
   "source": [
    "import asyncio\n",
    "from binance import AsyncClient, BinanceSocketManager"
   ]
  },
  {
   "cell_type": "code",
   "execution_count": null,
   "id": "f4d8a719",
   "metadata": {},
   "outputs": [],
   "source": [
    "def stream_data(msg):\n",
    "    print(msg)"
   ]
  },
  {
   "cell_type": "code",
   "execution_count": null,
   "id": "92f6ce35",
   "metadata": {},
   "outputs": [],
   "source": [
    "async def main():\n",
    "    client = await AsyncClient.create()\n",
    "    bm = BinanceSocketManager(client)\n",
    "    ts = bm.symbol_miniticker_socket(symbol=\"BTCUSDT\")\n",
    "\n",
    "    async with ts as tscm:  # Add a colon here\n",
    "        res = await tscm.recv()\n",
    "        stream_data(res)\n",
    "\n",
    "    await client.close_connection()"
   ]
  },
  {
   "cell_type": "code",
   "execution_count": null,
   "id": "2307d973",
   "metadata": {},
   "outputs": [],
   "source": [
    "n = 10\n"
   ]
  },
  {
   "cell_type": "code",
   "execution_count": null,
   "id": "910ad815",
   "metadata": {},
   "outputs": [],
   "source": [
    "await main()"
   ]
  },
  {
   "cell_type": "markdown",
   "id": "9e6169f3",
   "metadata": {},
   "source": [
    "# Creating a Test Order"
   ]
  },
  {
   "cell_type": "code",
   "execution_count": null,
   "id": "2158b341",
   "metadata": {},
   "outputs": [],
   "source": [
    "from binance.client import Client\n",
    "import pandas as pd "
   ]
  },
  {
   "cell_type": "code",
   "execution_count": null,
   "id": "d454afa1",
   "metadata": {},
   "outputs": [],
   "source": [
    "# place a test market buy order, to place an actual order use the create_order function\n",
    "order = client.create_test_order(symbol=\"BTCUSDT\", side = \"BUY\", type=\"MARKET\", quantity=0.1)"
   ]
  },
  {
   "cell_type": "code",
   "execution_count": null,
   "id": "13d597be",
   "metadata": {},
   "outputs": [],
   "source": [
    "## Paper Trading in the Spot Testnet"
   ]
  },
  {
   "cell_type": "markdown",
   "id": "8f87395b",
   "metadata": {},
   "source": [
    "# Paper Trading with the Spot Testnet API"
   ]
  },
  {
   "cell_type": "code",
   "execution_count": null,
   "id": "381dacd2",
   "metadata": {},
   "outputs": [],
   "source": [
    "api_key = \"VxuqPa3p6RrAN8wBxSP7BFcFr1xyA6Wc9FrWdOu6lFMANIlr5UhekZdep67NBgNJ\"\n",
    "secret_key = \"EgB2E9eq55Kkjp6SJTpU4GK0Yp0SMqNyLdoHyC9cdbakF6BFTGonfloDADbGJYVb\""
   ]
  },
  {
   "cell_type": "code",
   "execution_count": null,
   "id": "e033086e",
   "metadata": {},
   "outputs": [],
   "source": [
    "client = Client(api_key = api_key, api_secret = secret_key, tld=\"com\", testnet=True)"
   ]
  },
  {
   "cell_type": "code",
   "execution_count": null,
   "id": "4895da73",
   "metadata": {},
   "outputs": [],
   "source": [
    "test_account = client.get_account()"
   ]
  },
  {
   "cell_type": "code",
   "execution_count": null,
   "id": "551913a2",
   "metadata": {},
   "outputs": [],
   "source": [
    "import time\n",
    "gt = client.get_server_time()\n",
    "print(gt)\n",
    "print(time.localtime())\n",
    "aa = str(gt)\n",
    "bb = aa.replace(\"{'serverTime': \",\"\")\n",
    "aa = bb.replace(\"}\",\"\")\n",
    "gg=int(aa)\n",
    "ff=gg-10799260\n",
    "uu=ff/1000\n",
    "yy=int(uu)\n",
    "tt=time.localtime(yy)\n",
    "print(tt)"
   ]
  },
  {
   "cell_type": "code",
   "execution_count": null,
   "id": "5729158b",
   "metadata": {},
   "outputs": [],
   "source": [
    "df = pd.DataFrame(test_account[\"balances\"])\n",
    "df"
   ]
  },
  {
   "cell_type": "code",
   "execution_count": null,
   "id": "aaa8d22b-49d6-436b-9e29-e1009c6858fa",
   "metadata": {},
   "outputs": [],
   "source": [
    "client.get_asset_balance(asset=\"BTC\")"
   ]
  },
  {
   "cell_type": "code",
   "execution_count": null,
   "id": "5cbfaa7e-f1ba-4cff-ba8b-d83d6544fa92",
   "metadata": {},
   "outputs": [],
   "source": [
    "client.get_asset_balance(asset=\"USDT\")"
   ]
  },
  {
   "cell_type": "markdown",
   "id": "264d0a9b-b7c9-4298-b8ac-019b91c57e20",
   "metadata": {},
   "source": [
    "# Place a buy Order"
   ]
  },
  {
   "cell_type": "code",
   "execution_count": null,
   "id": "bc762e28-dfb1-4d1b-99b6-850c72192349",
   "metadata": {},
   "outputs": [],
   "source": [
    "order = client.create_order(symbol=\"BTCUSDT\", side= \"SELL\", type=\"MARKET\", quantity=0.1)"
   ]
  },
  {
   "cell_type": "code",
   "execution_count": null,
   "id": "e02cc368-9603-441c-8c01-58998de791ed",
   "metadata": {},
   "outputs": [],
   "source": [
    "order"
   ]
  },
  {
   "cell_type": "code",
   "execution_count": null,
   "id": "a307f810-f450-4216-93fd-d3c2d83a1731",
   "metadata": {},
   "outputs": [],
   "source": [
    "df = pd.DataFrame(order[\"fills\"])\n",
    "df"
   ]
  },
  {
   "cell_type": "code",
   "execution_count": null,
   "id": "990a001b-c110-4aa6-871c-c2c4394e96ad",
   "metadata": {},
   "outputs": [],
   "source": [
    "num_columns = [\"price\", \"qty\", \"commission\"]"
   ]
  },
  {
   "cell_type": "code",
   "execution_count": null,
   "id": "0c44359c-0355-4779-9e2b-08fa3f90c8d6",
   "metadata": {},
   "outputs": [],
   "source": [
    "for column in num_columns:\n",
    "    df[column] = pd.to_numeric(df[column], errors=\"coerce\")"
   ]
  },
  {
   "cell_type": "code",
   "execution_count": null,
   "id": "2306aad0-3848-44d5-8a2b-440ec2a6e3ba",
   "metadata": {},
   "outputs": [],
   "source": [
    "df.info()"
   ]
  },
  {
   "cell_type": "code",
   "execution_count": null,
   "id": "db781ece-155f-4374-ab48-3cb601b2c25e",
   "metadata": {},
   "outputs": [],
   "source": [
    "df.qty.sum()"
   ]
  },
  {
   "cell_type": "code",
   "execution_count": null,
   "id": "6a99c17c-faeb-4247-9c96-fe5048fd1074",
   "metadata": {},
   "outputs": [],
   "source": [
    "df.price.mul(df.qty).sum()"
   ]
  },
  {
   "cell_type": "markdown",
   "id": "3793002f-bbb6-433e-b832-0ea1945a00d0",
   "metadata": {},
   "source": [
    "# Place Limit Order"
   ]
  },
  {
   "cell_type": "code",
   "execution_count": null,
   "id": "2f368a70-2444-450f-a661-396218b75675",
   "metadata": {},
   "outputs": [],
   "source": [
    "client.get_symbol_ticker(symbol=\"BTCUSDT\")"
   ]
  },
  {
   "cell_type": "code",
   "execution_count": null,
   "id": "d14a1919-3449-4258-9b45-3c69c8704a99",
   "metadata": {},
   "outputs": [],
   "source": [
    "order1 = client.create_order(symbol=\"BTCUSDT\", side=\"BUY\", type=\"LIMIT\",\n",
    "                             quantity=0.1, timeInForce=\"GTC\", price = 42000)"
   ]
  },
  {
   "cell_type": "code",
   "execution_count": null,
   "id": "b7c85572-5dfb-4f6c-88bd-e6c5c593831b",
   "metadata": {},
   "outputs": [],
   "source": [
    "order1"
   ]
  },
  {
   "cell_type": "code",
   "execution_count": null,
   "id": "ff34c97f-bfb0-49ff-a911-547707cef651",
   "metadata": {},
   "outputs": [],
   "source": [
    "id_buy_limit1 = order1[\"orderId\"]\n",
    "id_buy_limit1"
   ]
  },
  {
   "cell_type": "code",
   "execution_count": null,
   "id": "178a2880-b657-4aff-85ee-9c35491b9591",
   "metadata": {},
   "outputs": [],
   "source": [
    "client.get_order(symbol = \"BTCUSDT\", orderId = id_buy_limit1)"
   ]
  },
  {
   "cell_type": "code",
   "execution_count": null,
   "id": "3c9283be-a5ac-47d7-86bc-4ee59edf790f",
   "metadata": {},
   "outputs": [],
   "source": [
    "order2 = client.create_order(symbol=\"BTCUSDT\", side=\"SELL\", type=\"LIMIT\",\n",
    "                             quantity=0.1, timeInForce=\"GTC\", price = 43000)"
   ]
  },
  {
   "cell_type": "code",
   "execution_count": null,
   "id": "6edba1b1-0c19-4f3e-bce9-80c723be4785",
   "metadata": {},
   "outputs": [],
   "source": [
    "id_sell_limit1 = order2[\"orderId\"]\n"
   ]
  },
  {
   "cell_type": "code",
   "execution_count": null,
   "id": "694be64b-39d4-4cd2-b32b-c0343ce1e930",
   "metadata": {},
   "outputs": [],
   "source": [
    "open_orders = client.get_open_orders(symbol=\"BTCUSDT\")\n",
    "pd.DataFrame(open_orders)"
   ]
  },
  {
   "cell_type": "code",
   "execution_count": null,
   "id": "06bb39c3-9c78-4eeb-9c0e-39a0c6c12826",
   "metadata": {},
   "outputs": [],
   "source": [
    "result = client.cancel_order(symbol = \"BTCUSDT\", orderId = id_sell_limit1)"
   ]
  },
  {
   "cell_type": "code",
   "execution_count": null,
   "id": "912aa966-2dfb-4cac-9ad6-c522f3c39bac",
   "metadata": {},
   "outputs": [],
   "source": [
    "all_orders = client.get_all_orders(symbol=\"BTCUSDT\")\n",
    "pd.DataFrame(all_orders)"
   ]
  },
  {
   "cell_type": "code",
   "execution_count": null,
   "id": "f22a0bbd-62b5-4765-8ef5-60367a5546fa",
   "metadata": {},
   "outputs": [],
   "source": [
    "trades = client.get_my_trades(symbol=\"BTCUSDT\")\n",
    "trades_df = pd.DataFrame(trades)"
   ]
  },
  {
   "cell_type": "code",
   "execution_count": null,
   "id": "85f22187-3c05-4cad-ba14-7814b782f3cd",
   "metadata": {},
   "outputs": [],
   "source": [
    "trades_df.time = pd.to_datetime(trades_df.time, unit=\"ms\", errors = \"coerce\")\n"
   ]
  },
  {
   "cell_type": "code",
   "execution_count": null,
   "id": "6e197a79-60f3-4312-8ec3-3e9a1532ba0a",
   "metadata": {},
   "outputs": [],
   "source": [
    "trades_df"
   ]
  },
  {
   "cell_type": "markdown",
   "id": "e0bb2110-64e1-49d3-93fc-366993ace1cc",
   "metadata": {},
   "source": [
    "# First very simple Trading Bot "
   ]
  },
  {
   "cell_type": "code",
   "execution_count": null,
   "id": "6e7417fb-82d6-42ac-ad35-99a0147b201c",
   "metadata": {},
   "outputs": [],
   "source": [
    "# Condition\n",
    "40210 % 10 "
   ]
  },
  {
   "cell_type": "code",
   "execution_count": null,
   "id": "6cd730d8-7c2f-4507-bb51-a517986ebfbe",
   "metadata": {},
   "outputs": [],
   "source": [
    "from binance import ThreadedWebsocketManager"
   ]
  },
  {
   "cell_type": "code",
   "execution_count": null,
   "id": "385bcaec-b39e-4d27-b2dc-c0145cc30b50",
   "metadata": {},
   "outputs": [],
   "source": [
    "twm = ThreadedWebsocketManager()\n",
    "twm.start()"
   ]
  },
  {
   "cell_type": "code",
   "execution_count": null,
   "id": "df844ec5-b6b5-4bcb-89a0-6058f9ea17a4",
   "metadata": {},
   "outputs": [],
   "source": [
    "def simple_bot(msg):\n",
    "\n",
    "    time = pd.to_datetime(msg[\"E\"], unit=\"ms\")\n",
    "    price = float(msg[\"c\"])\n",
    "\n",
    "    print(\"Time: {} | Price: {}\".format(time, price))\n",
    "\n",
    "    if int(price) % 10 == 0:\n",
    "        order = client.create_order(symbol=\"BTCUSDT\", side=\"BUY\", type=\"MARKET\", quantity=0.1)\n",
    "        print(\"\\n\" + 50 * \"-\")\n",
    "        print(\"Buy {} BTC for {} USDT\".format(order[\"executedQty\"], order[\"cummulativeQuoteQty\"]))\n",
    "        print(50 * \"-\" + \"\\n\")\n",
    " \n",
    "        twm.stop() # stop defined inside callback"
   ]
  },
  {
   "cell_type": "code",
   "execution_count": null,
   "id": "1c7e4d75-1520-4c43-beee-d0290a73544c",
   "metadata": {},
   "outputs": [],
   "source": [
    "twm.start_symbol_miniticker_socket(callback = simple_bot, symbol = \"BTCUSDT\")\n",
    "twm.join() # required if stop is defined in callback function"
   ]
  }
 ],
 "metadata": {
  "kernelspec": {
   "display_name": "Python 3 (ipykernel)",
   "language": "python",
   "name": "python3"
  },
  "language_info": {
   "codemirror_mode": {
    "name": "ipython",
    "version": 3
   },
   "file_extension": ".py",
   "mimetype": "text/x-python",
   "name": "python",
   "nbconvert_exporter": "python",
   "pygments_lexer": "ipython3",
   "version": "3.11.5"
  }
 },
 "nbformat": 4,
 "nbformat_minor": 5
}
