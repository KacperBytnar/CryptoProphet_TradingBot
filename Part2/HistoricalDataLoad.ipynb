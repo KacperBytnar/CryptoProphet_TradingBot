{
 "cells": [
  {
   "cell_type": "markdown",
   "id": "7fe10118-1a52-4cac-b4a7-cdcb3b0ad1d1",
   "metadata": {},
   "source": [
    "# Load historical prices on 1h interval for bitcoin"
   ]
  },
  {
   "cell_type": "code",
   "execution_count": 1,
   "id": "2727687c-aade-461b-9861-757b3f6895b6",
   "metadata": {},
   "outputs": [],
   "source": [
    "API_Key = \"VKBSmOKljPJF673UkPloF5mZ5X4DruNUvWOOZ6zo8D74rQMtpA0blnPJsEbVTTq2\"\n",
    "Secret_Key = \"bdVCIsdAwqSxzIgbRPPuBHr5n0KMgOxNw9JFFr00YUvKmZgGCr9vSdp4nhsYS59O\""
   ]
  },
  {
   "cell_type": "code",
   "execution_count": 2,
   "id": "c6b25a4c-44f6-4c90-9694-cb5eb2151ee8",
   "metadata": {},
   "outputs": [],
   "source": [
    "from binance.client import Client\n",
    "import pandas as pd"
   ]
  },
  {
   "cell_type": "code",
   "execution_count": 3,
   "id": "a0c75b34-9de0-4696-9c0a-05110f48fbc9",
   "metadata": {},
   "outputs": [],
   "source": [
    "client = Client(api_key = API_Key, api_secret = Secret_Key, tld=\"com\")"
   ]
  },
  {
   "cell_type": "code",
   "execution_count": 4,
   "id": "f9e28304-2291-4ef0-ad2a-34533775742b",
   "metadata": {},
   "outputs": [],
   "source": [
    "account = client.get_account()"
   ]
  },
  {
   "cell_type": "code",
   "execution_count": 5,
   "id": "b90aa18b-31fa-449c-b8d5-c1b8eb962f90",
   "metadata": {},
   "outputs": [
    {
     "data": {
      "text/plain": [
       "1502942400000"
      ]
     },
     "execution_count": 5,
     "metadata": {},
     "output_type": "execute_result"
    }
   ],
   "source": [
    "timestamp = client._get_earliest_valid_timestamp(symbol = \"BTCUSDT\", interval = \"1h\")\n",
    "timestamp"
   ]
  },
  {
   "cell_type": "code",
   "execution_count": 6,
   "id": "1212ef4e-93c8-4113-b98d-aa8d3b8aecbe",
   "metadata": {},
   "outputs": [
    {
     "data": {
      "text/plain": [
       "Timestamp('2017-08-17 04:00:00')"
      ]
     },
     "execution_count": 6,
     "metadata": {},
     "output_type": "execute_result"
    }
   ],
   "source": [
    "pd.to_datetime(timestamp, unit=\"ms\")"
   ]
  },
  {
   "cell_type": "code",
   "execution_count": 7,
   "id": "3406d509-1182-4461-bb3d-12dc857199b9",
   "metadata": {},
   "outputs": [],
   "source": [
    "def get_history(symbol, interval, start, end= None):\n",
    "    bars = client.get_historical_klines(symbol = symbol,\n",
    "                                    interval = interval, start_str = start, end_str = end, limit=1000)\n",
    "    historicalPrices = pd.DataFrame(bars)\n",
    "    historicalPrices[\"Date\"] = pd.to_datetime(historicalPrices.iloc[:,0], unit= \"ms\") \n",
    "    historicalPrices.columns = [\"Open Time\", \"Open\", \"High\", \"Low\", \"Close\", \"Volume\", \"Clos Time\",\n",
    "                                \"Quote Asset Volume\", \"Number of Trades\", \"Taker Buy Base Asset Volume\",\n",
    "                                \"Taker Buy Quote Asset Volume\",\"Ignore\", \"Date\"]\n",
    "    historicalPrices = historicalPrices[[\"Date\", \"Open\", \"High\", \"Low\", \"Close\", \"Volume\"]].copy()\n",
    "    historicalPrices.set_index(\"Date\", inplace=True)\n",
    "    for column in historicalPrices.columns:\n",
    "        historicalPrices[column] = pd.to_numeric(historicalPrices[column], errors = \"coerce\")\n",
    "    \n",
    "    return historicalPrices"
   ]
  },
  {
   "cell_type": "code",
   "execution_count": 8,
   "id": "c5977962-b064-465e-b6bb-e90baf7f330b",
   "metadata": {},
   "outputs": [],
   "source": [
    "df = get_history(symbol=\"BTCUSDT\", interval=\"1h\", start=timestamp)\n"
   ]
  },
  {
   "cell_type": "code",
   "execution_count": 10,
   "id": "7a39fdb0-be43-4b9f-bc8c-f0689384c810",
   "metadata": {},
   "outputs": [
    {
     "data": {
      "text/html": [
       "<div>\n",
       "<style scoped>\n",
       "    .dataframe tbody tr th:only-of-type {\n",
       "        vertical-align: middle;\n",
       "    }\n",
       "\n",
       "    .dataframe tbody tr th {\n",
       "        vertical-align: top;\n",
       "    }\n",
       "\n",
       "    .dataframe thead th {\n",
       "        text-align: right;\n",
       "    }\n",
       "</style>\n",
       "<table border=\"1\" class=\"dataframe\">\n",
       "  <thead>\n",
       "    <tr style=\"text-align: right;\">\n",
       "      <th></th>\n",
       "      <th>Open</th>\n",
       "      <th>High</th>\n",
       "      <th>Low</th>\n",
       "      <th>Close</th>\n",
       "      <th>Volume</th>\n",
       "    </tr>\n",
       "    <tr>\n",
       "      <th>Date</th>\n",
       "      <th></th>\n",
       "      <th></th>\n",
       "      <th></th>\n",
       "      <th></th>\n",
       "      <th></th>\n",
       "    </tr>\n",
       "  </thead>\n",
       "  <tbody>\n",
       "    <tr>\n",
       "      <th>2017-08-17 04:00:00</th>\n",
       "      <td>4261.48</td>\n",
       "      <td>4313.62</td>\n",
       "      <td>4261.32</td>\n",
       "      <td>4308.83</td>\n",
       "      <td>47.181009</td>\n",
       "    </tr>\n",
       "    <tr>\n",
       "      <th>2017-08-17 05:00:00</th>\n",
       "      <td>4308.83</td>\n",
       "      <td>4328.69</td>\n",
       "      <td>4291.37</td>\n",
       "      <td>4315.32</td>\n",
       "      <td>23.234916</td>\n",
       "    </tr>\n",
       "    <tr>\n",
       "      <th>2017-08-17 06:00:00</th>\n",
       "      <td>4330.29</td>\n",
       "      <td>4345.45</td>\n",
       "      <td>4309.37</td>\n",
       "      <td>4324.35</td>\n",
       "      <td>7.229691</td>\n",
       "    </tr>\n",
       "    <tr>\n",
       "      <th>2017-08-17 07:00:00</th>\n",
       "      <td>4316.62</td>\n",
       "      <td>4349.99</td>\n",
       "      <td>4287.41</td>\n",
       "      <td>4349.99</td>\n",
       "      <td>4.443249</td>\n",
       "    </tr>\n",
       "    <tr>\n",
       "      <th>2017-08-17 08:00:00</th>\n",
       "      <td>4333.32</td>\n",
       "      <td>4377.85</td>\n",
       "      <td>4333.32</td>\n",
       "      <td>4360.69</td>\n",
       "      <td>0.972807</td>\n",
       "    </tr>\n",
       "    <tr>\n",
       "      <th>...</th>\n",
       "      <td>...</td>\n",
       "      <td>...</td>\n",
       "      <td>...</td>\n",
       "      <td>...</td>\n",
       "      <td>...</td>\n",
       "    </tr>\n",
       "    <tr>\n",
       "      <th>2023-12-30 18:00:00</th>\n",
       "      <td>42489.00</td>\n",
       "      <td>42515.26</td>\n",
       "      <td>42329.62</td>\n",
       "      <td>42411.11</td>\n",
       "      <td>790.866750</td>\n",
       "    </tr>\n",
       "    <tr>\n",
       "      <th>2023-12-30 19:00:00</th>\n",
       "      <td>42411.11</td>\n",
       "      <td>42455.46</td>\n",
       "      <td>42339.24</td>\n",
       "      <td>42361.13</td>\n",
       "      <td>741.062640</td>\n",
       "    </tr>\n",
       "    <tr>\n",
       "      <th>2023-12-30 20:00:00</th>\n",
       "      <td>42361.13</td>\n",
       "      <td>42399.25</td>\n",
       "      <td>42199.98</td>\n",
       "      <td>42283.95</td>\n",
       "      <td>797.193820</td>\n",
       "    </tr>\n",
       "    <tr>\n",
       "      <th>2023-12-30 21:00:00</th>\n",
       "      <td>42283.95</td>\n",
       "      <td>42329.77</td>\n",
       "      <td>42223.99</td>\n",
       "      <td>42305.08</td>\n",
       "      <td>754.613100</td>\n",
       "    </tr>\n",
       "    <tr>\n",
       "      <th>2023-12-30 22:00:00</th>\n",
       "      <td>42305.08</td>\n",
       "      <td>42308.69</td>\n",
       "      <td>42218.87</td>\n",
       "      <td>42223.31</td>\n",
       "      <td>395.453460</td>\n",
       "    </tr>\n",
       "  </tbody>\n",
       "</table>\n",
       "<p>55715 rows × 5 columns</p>\n",
       "</div>"
      ],
      "text/plain": [
       "                         Open      High       Low     Close      Volume\n",
       "Date                                                                   \n",
       "2017-08-17 04:00:00   4261.48   4313.62   4261.32   4308.83   47.181009\n",
       "2017-08-17 05:00:00   4308.83   4328.69   4291.37   4315.32   23.234916\n",
       "2017-08-17 06:00:00   4330.29   4345.45   4309.37   4324.35    7.229691\n",
       "2017-08-17 07:00:00   4316.62   4349.99   4287.41   4349.99    4.443249\n",
       "2017-08-17 08:00:00   4333.32   4377.85   4333.32   4360.69    0.972807\n",
       "...                       ...       ...       ...       ...         ...\n",
       "2023-12-30 18:00:00  42489.00  42515.26  42329.62  42411.11  790.866750\n",
       "2023-12-30 19:00:00  42411.11  42455.46  42339.24  42361.13  741.062640\n",
       "2023-12-30 20:00:00  42361.13  42399.25  42199.98  42283.95  797.193820\n",
       "2023-12-30 21:00:00  42283.95  42329.77  42223.99  42305.08  754.613100\n",
       "2023-12-30 22:00:00  42305.08  42308.69  42218.87  42223.31  395.453460\n",
       "\n",
       "[55715 rows x 5 columns]"
      ]
     },
     "execution_count": 10,
     "metadata": {},
     "output_type": "execute_result"
    }
   ],
   "source": [
    "df"
   ]
  },
  {
   "cell_type": "code",
   "execution_count": 16,
   "id": "d22991ca-d04a-4966-8e66-aee157eb01e8",
   "metadata": {},
   "outputs": [],
   "source": [
    "df.to_csv('btc_data.csv', columns=['Close', 'Volume'])\n",
    "\n"
   ]
  },
  {
   "cell_type": "code",
   "execution_count": 17,
   "id": "8c787102-bd43-43b5-b525-6166f69f7cca",
   "metadata": {},
   "outputs": [],
   "source": [
    "df.to_csv('btc_data_1h.csv')\n"
   ]
  }
 ],
 "metadata": {
  "kernelspec": {
   "display_name": "Python 3 (ipykernel)",
   "language": "python",
   "name": "python3"
  },
  "language_info": {
   "codemirror_mode": {
    "name": "ipython",
    "version": 3
   },
   "file_extension": ".py",
   "mimetype": "text/x-python",
   "name": "python",
   "nbconvert_exporter": "python",
   "pygments_lexer": "ipython3",
   "version": "3.9.18"
  }
 },
 "nbformat": 4,
 "nbformat_minor": 5
}
